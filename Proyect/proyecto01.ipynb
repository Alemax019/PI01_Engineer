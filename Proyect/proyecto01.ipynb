{
 "cells": [
  {
   "cell_type": "code",
   "execution_count": 1,
   "metadata": {},
   "outputs": [],
   "source": [
    "## Importamos pandas y numpy para realizar lectura y transformaciones de los arhivos\n",
    "import pandas as pd\n",
    "import numpy as np\n"
   ]
  },
  {
   "cell_type": "code",
   "execution_count": 2,
   "metadata": {},
   "outputs": [],
   "source": [
    "## Generamos dataset base para realizar las tranformaciones\n",
    "df_amazon_prime = pd.read_csv('./DataSets/amazon_prime_titles-score.csv')\n",
    "## Creamos nueva columna con inicial de la aplicacion de Streaming\n",
    "df_amazon_prime = df_amazon_prime.assign(movie='a')\n",
    "df_amazon_prime['cast'] = df_amazon_prime['cast'].str.lower()\n",
    "df_disney_plus = pd.read_csv('./DataSets/disney_plus_titles-score.csv')\n",
    "df_disney_plus = df_disney_plus.assign(movie='d')\n",
    "df_disney_plus['cast'] = df_disney_plus['cast'].str.lower()\n",
    "df_hulu = pd.read_csv('./DataSets/hulu_titles-score (2).csv')\n",
    "df_hulu = df_hulu.assign(movie='h')\n",
    "df_netflix = pd.read_csv('./DataSets/netflix_titles-score.csv')\n",
    "df_netflix = df_netflix.assign(movie='n')\n",
    "df_netflix['cast'] = df_netflix['cast'].str.lower()"
   ]
  },
  {
   "cell_type": "code",
   "execution_count": 3,
   "metadata": {},
   "outputs": [],
   "source": [
    "## Creammos funcion para aplicar las transformaciones de los requerimientos correspondientes\n",
    "def transform(df_amazon_prime):\n",
    "    df_amazon_prime.insert(0,'id',df_amazon_prime.movie.str.cat(df_amazon_prime.show_id))\n",
    "    df_amazon_prime['rating'].fillna('G', inplace=True)\n",
    "    df_amazon_prime.drop(['movie'], axis=1, inplace=True)\n",
    "    df_amazon_prime['type'] = df_amazon_prime['type'].str.lower()\n",
    "    df_amazon_prime['title'] = df_amazon_prime['title'].str.lower()\n",
    "    df_amazon_prime['director'] = df_amazon_prime['director'].str.lower()\n",
    "    df_amazon_prime['country'] = df_amazon_prime['country'].str.lower()\n",
    "    df_amazon_prime['date_added'] = df_amazon_prime['date_added'].str.lower()\n",
    "    df_amazon_prime['rating'] = df_amazon_prime['rating'].str.lower()\n",
    "    df_amazon_prime['listed_in'] = df_amazon_prime['listed_in'].str.lower()\n",
    "    df_amazon_prime['description'] = df_amazon_prime['description'].str.lower()\n",
    "    df_amazon_prime.insert(7,'fecha',pd.to_datetime(df_amazon_prime.date_added))\n",
    "    df_amazon_prime['fecha'] = df_amazon_prime['fecha'].astype('str')\n",
    "    df_amazon_prime[['duration_int','duration_type']] = df_amazon_prime.duration.str.split(' ',expand=True)\n",
    "    df_amazon_prime['duration_int'] = df_amazon_prime['duration_int'].astype('float')\n",
    "    df_amazon_prime.replace({'Seasons':'Season'})\n",
    "    df_amazon_prime['duration_type'] = df_amazon_prime['duration_type'].str.lower()\n",
    "    return df_amazon_prime"
   ]
  },
  {
   "cell_type": "code",
   "execution_count": 4,
   "metadata": {},
   "outputs": [],
   "source": [
    "## realizamos las trasnformacion con nuestra funcion\n",
    "df_amazon_prime = transform(df_amazon_prime)\n",
    "df_disney_plus = transform(df_disney_plus)\n",
    "df_hulu = transform(df_hulu)\n",
    "df_netflix = transform(df_netflix)"
   ]
  },
  {
   "cell_type": "code",
   "execution_count": 5,
   "metadata": {},
   "outputs": [
    {
     "name": "stdout",
     "output_type": "stream",
     "text": [
      "<class 'pandas.core.frame.DataFrame'>\n",
      "RangeIndex: 22998 entries, 0 to 22997\n",
      "Data columns (total 18 columns):\n",
      " #   Column         Non-Null Count  Dtype  \n",
      "---  ------         --------------  -----  \n",
      " 0   index          22998 non-null  int64  \n",
      " 1   id             22998 non-null  object \n",
      " 2   show_id        22998 non-null  object \n",
      " 3   type           22998 non-null  object \n",
      " 4   title          22998 non-null  object \n",
      " 5   director       14739 non-null  object \n",
      " 6   cast           17677 non-null  object \n",
      " 7   country        11499 non-null  object \n",
      " 8   fecha          22998 non-null  object \n",
      " 9   date_added     13444 non-null  object \n",
      " 10  release_year   22998 non-null  int64  \n",
      " 11  rating         22998 non-null  object \n",
      " 12  duration       22516 non-null  object \n",
      " 13  listed_in      22998 non-null  object \n",
      " 14  description    22994 non-null  object \n",
      " 15  score          22998 non-null  int64  \n",
      " 16  duration_int   22516 non-null  float64\n",
      " 17  duration_type  22516 non-null  object \n",
      "dtypes: float64(1), int64(3), object(14)\n",
      "memory usage: 3.2+ MB\n"
     ]
    }
   ],
   "source": [
    "## unimos todos los dataset en uno solo\n",
    "all_form = pd.concat([df_amazon_prime, df_disney_plus,df_hulu,df_netflix])\n",
    "## Realizamos un nuevo indice para evitar errores\n",
    "all_form.reset_index(inplace=True)\n",
    "## verificamos la uniom de los dataset, y las columnas correspondientes\n",
    "all_form.info()"
   ]
  },
  {
   "cell_type": "code",
   "execution_count": 6,
   "metadata": {},
   "outputs": [],
   "source": [
    "## Importamos librerias para conectarnos con mysql\n",
    "import pymysql\n",
    "import sqlalchemy as db\n",
    "## libreria para rutas de archivos\n",
    "from pathlib import Path"
   ]
  },
  {
   "cell_type": "code",
   "execution_count": 7,
   "metadata": {},
   "outputs": [],
   "source": [
    "## Realizamos la coneccion con mysql\n",
    "username = 'root'\n",
    "password = 'Carolina15+'\n",
    "host = 'localhost'\n",
    "database = 'proyecto01'\n",
    "database_connection = db.create_engine('mysql+pymysql://{0}:{1}@{2}/{3}'.format(username,password,host,database))\n",
    "\n",
    "connection = database_connection.connect()\n",
    "metadata = db.MetaData()"
   ]
  },
  {
   "cell_type": "code",
   "execution_count": 8,
   "metadata": {},
   "outputs": [
    {
     "ename": "ValueError",
     "evalue": "Table 'plataform' already exists.",
     "output_type": "error",
     "traceback": [
      "\u001b[1;31m---------------------------------------------------------------------------\u001b[0m",
      "\u001b[1;31mValueError\u001b[0m                                Traceback (most recent call last)",
      "Cell \u001b[1;32mIn[8], line 2\u001b[0m\n\u001b[0;32m      1\u001b[0m \u001b[39m## cargamos el data frame a la base de datos\u001b[39;00m\n\u001b[1;32m----> 2\u001b[0m all_form\u001b[39m.\u001b[39;49mto_sql(\u001b[39m'\u001b[39;49m\u001b[39mplataform\u001b[39;49m\u001b[39m'\u001b[39;49m, connection)\n",
      "File \u001b[1;32mc:\\Users\\crist\\AppData\\Local\\Programs\\Python\\Python311\\Lib\\site-packages\\pandas\\core\\generic.py:2987\u001b[0m, in \u001b[0;36mNDFrame.to_sql\u001b[1;34m(self, name, con, schema, if_exists, index, index_label, chunksize, dtype, method)\u001b[0m\n\u001b[0;32m   2830\u001b[0m \u001b[39m\"\"\"\u001b[39;00m\n\u001b[0;32m   2831\u001b[0m \u001b[39mWrite records stored in a DataFrame to a SQL database.\u001b[39;00m\n\u001b[0;32m   2832\u001b[0m \n\u001b[1;32m   (...)\u001b[0m\n\u001b[0;32m   2983\u001b[0m \u001b[39m[(1,), (None,), (2,)]\u001b[39;00m\n\u001b[0;32m   2984\u001b[0m \u001b[39m\"\"\"\u001b[39;00m  \u001b[39m# noqa:E501\u001b[39;00m\n\u001b[0;32m   2985\u001b[0m \u001b[39mfrom\u001b[39;00m \u001b[39mpandas\u001b[39;00m\u001b[39m.\u001b[39;00m\u001b[39mio\u001b[39;00m \u001b[39mimport\u001b[39;00m sql\n\u001b[1;32m-> 2987\u001b[0m \u001b[39mreturn\u001b[39;00m sql\u001b[39m.\u001b[39;49mto_sql(\n\u001b[0;32m   2988\u001b[0m     \u001b[39mself\u001b[39;49m,\n\u001b[0;32m   2989\u001b[0m     name,\n\u001b[0;32m   2990\u001b[0m     con,\n\u001b[0;32m   2991\u001b[0m     schema\u001b[39m=\u001b[39;49mschema,\n\u001b[0;32m   2992\u001b[0m     if_exists\u001b[39m=\u001b[39;49mif_exists,\n\u001b[0;32m   2993\u001b[0m     index\u001b[39m=\u001b[39;49mindex,\n\u001b[0;32m   2994\u001b[0m     index_label\u001b[39m=\u001b[39;49mindex_label,\n\u001b[0;32m   2995\u001b[0m     chunksize\u001b[39m=\u001b[39;49mchunksize,\n\u001b[0;32m   2996\u001b[0m     dtype\u001b[39m=\u001b[39;49mdtype,\n\u001b[0;32m   2997\u001b[0m     method\u001b[39m=\u001b[39;49mmethod,\n\u001b[0;32m   2998\u001b[0m )\n",
      "File \u001b[1;32mc:\\Users\\crist\\AppData\\Local\\Programs\\Python\\Python311\\Lib\\site-packages\\pandas\\io\\sql.py:695\u001b[0m, in \u001b[0;36mto_sql\u001b[1;34m(frame, name, con, schema, if_exists, index, index_label, chunksize, dtype, method, engine, **engine_kwargs)\u001b[0m\n\u001b[0;32m    690\u001b[0m \u001b[39melif\u001b[39;00m \u001b[39mnot\u001b[39;00m \u001b[39misinstance\u001b[39m(frame, DataFrame):\n\u001b[0;32m    691\u001b[0m     \u001b[39mraise\u001b[39;00m \u001b[39mNotImplementedError\u001b[39;00m(\n\u001b[0;32m    692\u001b[0m         \u001b[39m\"\u001b[39m\u001b[39m'\u001b[39m\u001b[39mframe\u001b[39m\u001b[39m'\u001b[39m\u001b[39m argument should be either a Series or a DataFrame\u001b[39m\u001b[39m\"\u001b[39m\n\u001b[0;32m    693\u001b[0m     )\n\u001b[1;32m--> 695\u001b[0m \u001b[39mreturn\u001b[39;00m pandas_sql\u001b[39m.\u001b[39;49mto_sql(\n\u001b[0;32m    696\u001b[0m     frame,\n\u001b[0;32m    697\u001b[0m     name,\n\u001b[0;32m    698\u001b[0m     if_exists\u001b[39m=\u001b[39;49mif_exists,\n\u001b[0;32m    699\u001b[0m     index\u001b[39m=\u001b[39;49mindex,\n\u001b[0;32m    700\u001b[0m     index_label\u001b[39m=\u001b[39;49mindex_label,\n\u001b[0;32m    701\u001b[0m     schema\u001b[39m=\u001b[39;49mschema,\n\u001b[0;32m    702\u001b[0m     chunksize\u001b[39m=\u001b[39;49mchunksize,\n\u001b[0;32m    703\u001b[0m     dtype\u001b[39m=\u001b[39;49mdtype,\n\u001b[0;32m    704\u001b[0m     method\u001b[39m=\u001b[39;49mmethod,\n\u001b[0;32m    705\u001b[0m     engine\u001b[39m=\u001b[39;49mengine,\n\u001b[0;32m    706\u001b[0m     \u001b[39m*\u001b[39;49m\u001b[39m*\u001b[39;49mengine_kwargs,\n\u001b[0;32m    707\u001b[0m )\n",
      "File \u001b[1;32mc:\\Users\\crist\\AppData\\Local\\Programs\\Python\\Python311\\Lib\\site-packages\\pandas\\io\\sql.py:1728\u001b[0m, in \u001b[0;36mSQLDatabase.to_sql\u001b[1;34m(self, frame, name, if_exists, index, index_label, schema, chunksize, dtype, method, engine, **engine_kwargs)\u001b[0m\n\u001b[0;32m   1678\u001b[0m \u001b[39m\"\"\"\u001b[39;00m\n\u001b[0;32m   1679\u001b[0m \u001b[39mWrite records stored in a DataFrame to a SQL database.\u001b[39;00m\n\u001b[0;32m   1680\u001b[0m \n\u001b[1;32m   (...)\u001b[0m\n\u001b[0;32m   1724\u001b[0m \u001b[39m    Any additional kwargs are passed to the engine.\u001b[39;00m\n\u001b[0;32m   1725\u001b[0m \u001b[39m\"\"\"\u001b[39;00m\n\u001b[0;32m   1726\u001b[0m sql_engine \u001b[39m=\u001b[39m get_engine(engine)\n\u001b[1;32m-> 1728\u001b[0m table \u001b[39m=\u001b[39m \u001b[39mself\u001b[39;49m\u001b[39m.\u001b[39;49mprep_table(\n\u001b[0;32m   1729\u001b[0m     frame\u001b[39m=\u001b[39;49mframe,\n\u001b[0;32m   1730\u001b[0m     name\u001b[39m=\u001b[39;49mname,\n\u001b[0;32m   1731\u001b[0m     if_exists\u001b[39m=\u001b[39;49mif_exists,\n\u001b[0;32m   1732\u001b[0m     index\u001b[39m=\u001b[39;49mindex,\n\u001b[0;32m   1733\u001b[0m     index_label\u001b[39m=\u001b[39;49mindex_label,\n\u001b[0;32m   1734\u001b[0m     schema\u001b[39m=\u001b[39;49mschema,\n\u001b[0;32m   1735\u001b[0m     dtype\u001b[39m=\u001b[39;49mdtype,\n\u001b[0;32m   1736\u001b[0m )\n\u001b[0;32m   1738\u001b[0m total_inserted \u001b[39m=\u001b[39m sql_engine\u001b[39m.\u001b[39minsert_records(\n\u001b[0;32m   1739\u001b[0m     table\u001b[39m=\u001b[39mtable,\n\u001b[0;32m   1740\u001b[0m     con\u001b[39m=\u001b[39m\u001b[39mself\u001b[39m\u001b[39m.\u001b[39mconnectable,\n\u001b[1;32m   (...)\u001b[0m\n\u001b[0;32m   1747\u001b[0m     \u001b[39m*\u001b[39m\u001b[39m*\u001b[39mengine_kwargs,\n\u001b[0;32m   1748\u001b[0m )\n\u001b[0;32m   1750\u001b[0m \u001b[39mself\u001b[39m\u001b[39m.\u001b[39mcheck_case_sensitive(name\u001b[39m=\u001b[39mname, schema\u001b[39m=\u001b[39mschema)\n",
      "File \u001b[1;32mc:\\Users\\crist\\AppData\\Local\\Programs\\Python\\Python311\\Lib\\site-packages\\pandas\\io\\sql.py:1631\u001b[0m, in \u001b[0;36mSQLDatabase.prep_table\u001b[1;34m(self, frame, name, if_exists, index, index_label, schema, dtype)\u001b[0m\n\u001b[0;32m   1619\u001b[0m             \u001b[39mraise\u001b[39;00m \u001b[39mValueError\u001b[39;00m(\u001b[39mf\u001b[39m\u001b[39m\"\u001b[39m\u001b[39mThe type of \u001b[39m\u001b[39m{\u001b[39;00mcol\u001b[39m}\u001b[39;00m\u001b[39m is not a SQLAlchemy type\u001b[39m\u001b[39m\"\u001b[39m)\n\u001b[0;32m   1621\u001b[0m table \u001b[39m=\u001b[39m SQLTable(\n\u001b[0;32m   1622\u001b[0m     name,\n\u001b[0;32m   1623\u001b[0m     \u001b[39mself\u001b[39m,\n\u001b[1;32m   (...)\u001b[0m\n\u001b[0;32m   1629\u001b[0m     dtype\u001b[39m=\u001b[39mdtype,\n\u001b[0;32m   1630\u001b[0m )\n\u001b[1;32m-> 1631\u001b[0m table\u001b[39m.\u001b[39;49mcreate()\n\u001b[0;32m   1632\u001b[0m \u001b[39mreturn\u001b[39;00m table\n",
      "File \u001b[1;32mc:\\Users\\crist\\AppData\\Local\\Programs\\Python\\Python311\\Lib\\site-packages\\pandas\\io\\sql.py:829\u001b[0m, in \u001b[0;36mSQLTable.create\u001b[1;34m(self)\u001b[0m\n\u001b[0;32m    827\u001b[0m \u001b[39mif\u001b[39;00m \u001b[39mself\u001b[39m\u001b[39m.\u001b[39mexists():\n\u001b[0;32m    828\u001b[0m     \u001b[39mif\u001b[39;00m \u001b[39mself\u001b[39m\u001b[39m.\u001b[39mif_exists \u001b[39m==\u001b[39m \u001b[39m\"\u001b[39m\u001b[39mfail\u001b[39m\u001b[39m\"\u001b[39m:\n\u001b[1;32m--> 829\u001b[0m         \u001b[39mraise\u001b[39;00m \u001b[39mValueError\u001b[39;00m(\u001b[39mf\u001b[39m\u001b[39m\"\u001b[39m\u001b[39mTable \u001b[39m\u001b[39m'\u001b[39m\u001b[39m{\u001b[39;00m\u001b[39mself\u001b[39m\u001b[39m.\u001b[39mname\u001b[39m}\u001b[39;00m\u001b[39m'\u001b[39m\u001b[39m already exists.\u001b[39m\u001b[39m\"\u001b[39m)\n\u001b[0;32m    830\u001b[0m     \u001b[39melif\u001b[39;00m \u001b[39mself\u001b[39m\u001b[39m.\u001b[39mif_exists \u001b[39m==\u001b[39m \u001b[39m\"\u001b[39m\u001b[39mreplace\u001b[39m\u001b[39m\"\u001b[39m:\n\u001b[0;32m    831\u001b[0m         \u001b[39mself\u001b[39m\u001b[39m.\u001b[39mpd_sql\u001b[39m.\u001b[39mdrop_table(\u001b[39mself\u001b[39m\u001b[39m.\u001b[39mname, \u001b[39mself\u001b[39m\u001b[39m.\u001b[39mschema)\n",
      "\u001b[1;31mValueError\u001b[0m: Table 'plataform' already exists."
     ]
    }
   ],
   "source": [
    "## cargamos el data frame a la base de datos\n",
    "all_form.to_sql('plataform', connection)"
   ]
  },
  {
   "cell_type": "code",
   "execution_count": null,
   "metadata": {},
   "outputs": [],
   "source": [
    "## traemos nuestro dataframe con los cambios listo para exportar \n",
    "df_sql = pd.read_sql_query('select * from plataform',connection)\n",
    "all_form = pd.DataFrame(df_sql);\n",
    "all_form.drop(['index'], axis=1, inplace=True)"
   ]
  },
  {
   "cell_type": "code",
   "execution_count": null,
   "metadata": {},
   "outputs": [
    {
     "name": "stderr",
     "output_type": "stream",
     "text": [
      "c:\\Users\\crist\\AppData\\Local\\Programs\\Python\\Python311\\Lib\\site-packages\\pandas\\core\\internals\\blocks.py:2323: RuntimeWarning: invalid value encountered in cast\n",
      "  values = values.astype(str)\n"
     ]
    }
   ],
   "source": [
    "## Nuestro dataframe se encuentra listo para realizar la api\n",
    "all_form.to_csv('./DataSets/all_form.csv', index=False)"
   ]
  }
 ],
 "metadata": {
  "kernelspec": {
   "display_name": "Python 3",
   "language": "python",
   "name": "python3"
  },
  "language_info": {
   "codemirror_mode": {
    "name": "ipython",
    "version": 3
   },
   "file_extension": ".py",
   "mimetype": "text/x-python",
   "name": "python",
   "nbconvert_exporter": "python",
   "pygments_lexer": "ipython3",
   "version": "3.11.1"
  },
  "orig_nbformat": 4,
  "vscode": {
   "interpreter": {
    "hash": "718715b73e0a150c6aa0738ed8aa0727f84182aa4188b2f31734b0cdc51341ea"
   }
  }
 },
 "nbformat": 4,
 "nbformat_minor": 2
}
